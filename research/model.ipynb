{
 "cells": [
  {
   "cell_type": "code",
   "execution_count": 4,
   "id": "dc55af20",
   "metadata": {},
   "outputs": [
    {
     "name": "stdout",
     "output_type": "stream",
     "text": [
      "Requirement already satisfied: pyyaml in c:\\users\\viran\\anaconda3\\envs\\weathercnn\\lib\\site-packages (6.0.2)\n"
     ]
    }
   ],
   "source": [
    "!pip install pyyaml\n",
    "   "
   ]
  },
  {
   "cell_type": "code",
   "execution_count": 5,
   "id": "564b0bf8",
   "metadata": {},
   "outputs": [
    {
     "name": "stdout",
     "output_type": "stream",
     "text": [
      "{'name': 'shivani'}\n"
     ]
    }
   ],
   "source": [
    "import yaml \n",
    "\n",
    "yaml_file_path = \"test.yaml\"\n",
    "\n",
    "#open the YAML file and load its contents\n",
    "with open(yaml_file_path, 'r') as yaml_file:\n",
    "    data = yaml.safe_load(yaml_file)\n",
    "\n",
    "\n",
    "print(data) "
   ]
  },
  {
   "cell_type": "code",
   "execution_count": 6,
   "id": "526a52b7",
   "metadata": {},
   "outputs": [
    {
     "name": "stdout",
     "output_type": "stream",
     "text": [
      "Requirement already satisfied: python-box in c:\\users\\viran\\anaconda3\\envs\\weathercnn\\lib\\site-packages (7.3.2)\n",
      "Note: you may need to restart the kernel to use updated packages.\n"
     ]
    }
   ],
   "source": [
    "pip install python-box\n"
   ]
  },
  {
   "cell_type": "code",
   "execution_count": 7,
   "id": "8e465550",
   "metadata": {},
   "outputs": [],
   "source": [
    "from box import ConfigBox\n",
    "\n",
    "d = ConfigBox(data)"
   ]
  },
  {
   "cell_type": "code",
   "execution_count": 8,
   "id": "a003db55",
   "metadata": {},
   "outputs": [
    {
     "data": {
      "text/plain": [
       "'shivani'"
      ]
     },
     "execution_count": 8,
     "metadata": {},
     "output_type": "execute_result"
    }
   ],
   "source": [
    "d.name"
   ]
  },
  {
   "cell_type": "code",
   "execution_count": null,
   "id": "f35c86f4",
   "metadata": {},
   "outputs": [],
   "source": []
  }
 ],
 "metadata": {
  "kernelspec": {
   "display_name": "weatherCNN",
   "language": "python",
   "name": "python3"
  },
  "language_info": {
   "codemirror_mode": {
    "name": "ipython",
    "version": 3
   },
   "file_extension": ".py",
   "mimetype": "text/x-python",
   "name": "python",
   "nbconvert_exporter": "python",
   "pygments_lexer": "ipython3",
   "version": "3.10.16"
  }
 },
 "nbformat": 4,
 "nbformat_minor": 5
}
